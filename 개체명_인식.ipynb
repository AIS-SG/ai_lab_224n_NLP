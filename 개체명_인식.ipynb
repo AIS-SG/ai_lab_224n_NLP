{
  "nbformat": 4,
  "nbformat_minor": 0,
  "metadata": {
    "colab": {
      "name": "개체명 인식.ipynb",
      "provenance": [],
      "private_outputs": true,
      "authorship_tag": "ABX9TyMbNafaAuSH0zhGAjOcJYkb",
      "include_colab_link": true
    },
    "kernelspec": {
      "name": "python3",
      "display_name": "Python 3"
    }
  },
  "cells": [
    {
      "cell_type": "markdown",
      "metadata": {
        "id": "view-in-github",
        "colab_type": "text"
      },
      "source": [
        "<a href=\"https://colab.research.google.com/github/AIS-SG/ai_lab_224n_NLP/blob/main/%EA%B0%9C%EC%B2%B4%EB%AA%85_%EC%9D%B8%EC%8B%9D.ipynb\" target=\"_parent\"><img src=\"https://colab.research.google.com/assets/colab-badge.svg\" alt=\"Open In Colab\"/></a>"
      ]
    },
    {
      "cell_type": "markdown",
      "metadata": {
        "id": "KUyLpIePfzka"
      },
      "source": [
        "# 딥러닝을 이용한 자연어 처리 입문 - 개체명 인식\n",
        "##### 참고자료 : https://wikidocs.net/30682"
      ]
    },
    {
      "cell_type": "markdown",
      "metadata": {
        "id": "NS6KS7UYm0cL"
      },
      "source": [
        "## 개체명 인식이란?\n",
        "- 어떤 이름을 의미하는 단어를 보고는 그 단어가 어떤 유형인지 인식하는 것\n",
        "- 개체명 인식 모델이 개체명을 인식하기 위해서는 보통 전처리 과정이 필요"
      ]
    },
    {
      "cell_type": "markdown",
      "metadata": {
        "id": "YLz82YEpaCuJ"
      },
      "source": [
        "## NLTK를 이용한 개체명 인식"
      ]
    },
    {
      "cell_type": "code",
      "metadata": {
        "id": "EYjzWVOxmFqN"
      },
      "source": [
        "import nltk\n",
        "nltk.download('punkt')\n",
        "nltk.download('averaged_perceptron_tagger')\n",
        "nltk.download('maxent_ne_chunker')\n",
        "nltk.download('words')"
      ],
      "execution_count": null,
      "outputs": []
    },
    {
      "cell_type": "code",
      "metadata": {
        "id": "1X75Tt0QDJ9M"
      },
      "source": [
        "from nltk import word_tokenize, pos_tag, ne_chunk\n",
        "sentence = \"James is working at Disney in London\"\n",
        "sentence=pos_tag(word_tokenize(sentence))\n",
        "print(sentence) # 토큰화와 품사 태깅을 동시 수행"
      ],
      "execution_count": null,
      "outputs": []
    },
    {
      "cell_type": "code",
      "metadata": {
        "id": "EL2HEA7ZZxIo"
      },
      "source": [
        "# ne_chunk는 개체명을 태깅하기 위해서 품사 태깅이 수행되어야 한다.\n",
        "sentence=ne_chunk(sentence)\n",
        "print(sentence) # 개체명 인식"
      ],
      "execution_count": null,
      "outputs": []
    }
  ]
}