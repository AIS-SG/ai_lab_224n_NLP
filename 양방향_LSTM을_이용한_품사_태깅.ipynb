{
  "nbformat": 4,
  "nbformat_minor": 0,
  "metadata": {
    "colab": {
      "name": "양방향 LSTM을 이용한 품사 태깅.ipynb",
      "provenance": [],
      "collapsed_sections": [],
      "authorship_tag": "ABX9TyNsWZerA5/Jw5PO8kb8jBz0",
      "include_colab_link": true
    },
    "kernelspec": {
      "name": "python3",
      "display_name": "Python 3"
    }
  },
  "cells": [
    {
      "cell_type": "markdown",
      "metadata": {
        "id": "view-in-github",
        "colab_type": "text"
      },
      "source": [
        "<a href=\"https://colab.research.google.com/github/AIS-SG/ai_lab_224n_NLP/blob/main/%EC%96%91%EB%B0%A9%ED%96%A5_LSTM%EC%9D%84_%EC%9D%B4%EC%9A%A9%ED%95%9C_%ED%92%88%EC%82%AC_%ED%83%9C%EA%B9%85.ipynb\" target=\"_parent\"><img src=\"https://colab.research.google.com/assets/colab-badge.svg\" alt=\"Open In Colab\"/></a>"
      ]
    },
    {
      "cell_type": "markdown",
      "metadata": {
        "id": "KUyLpIePfzka"
      },
      "source": [
        "# 딥러닝을 이용한 자연어 처리 입문 - 양방향 LSTM을 이용한 품사 태깅\n",
        "##### 참고자료 : https://wikidocs.net/33532"
      ]
    },
    {
      "cell_type": "markdown",
      "metadata": {
        "id": "YLz82YEpaCuJ"
      },
      "source": [
        "## 품사 태깅 데이터에 대한 이해와 전처리"
      ]
    },
    {
      "cell_type": "code",
      "metadata": {
        "id": "1X75Tt0QDJ9M"
      },
      "source": [
        "import nltk\n",
        "import numpy as np\n",
        "%matplotlib inline\n",
        "import matplotlib.pyplot as plt\n",
        "from tensorflow.keras.preprocessing.text import Tokenizer\n",
        "from tensorflow.keras.preprocessing.sequence import pad_sequences\n",
        "from tensorflow.keras.utils import to_categorical\n",
        "from sklearn.model_selection import train_test_split"
      ],
      "execution_count": 1,
      "outputs": []
    },
    {
      "cell_type": "code",
      "metadata": {
        "id": "XorkIKfarENZ",
        "outputId": "7a8d0dc7-d2ee-4c0e-8558-bc88d41b3d40",
        "colab": {
          "base_uri": "https://localhost:8080/"
        }
      },
      "source": [
        "nltk.download('treebank')"
      ],
      "execution_count": 3,
      "outputs": [
        {
          "output_type": "stream",
          "text": [
            "[nltk_data] Downloading package treebank to /root/nltk_data...\n",
            "[nltk_data]   Unzipping corpora/treebank.zip.\n"
          ],
          "name": "stdout"
        },
        {
          "output_type": "execute_result",
          "data": {
            "text/plain": [
              "True"
            ]
          },
          "metadata": {
            "tags": []
          },
          "execution_count": 3
        }
      ]
    },
    {
      "cell_type": "markdown",
      "metadata": {
        "id": "iPgalkRAq3Dm"
      },
      "source": [
        "##### 영어 코퍼스에 토큰화와 품사 태깅 전처리를 진행한 문장 데이터를 받아올 수 있다."
      ]
    },
    {
      "cell_type": "code",
      "metadata": {
        "id": "EL2HEA7ZZxIo",
        "outputId": "0bc351e8-791e-4b56-a2c8-bf491f8272f9",
        "colab": {
          "base_uri": "https://localhost:8080/"
        }
      },
      "source": [
        "tagged_sentences = nltk.corpus.treebank.tagged_sents() # 토큰화에 품사 태깅이 된 데이터 받아오기\n",
        "print(\"품사 태깅이 된 문장 개수: \", len(tagged_sentences)) # 문장 샘플의 개수 출력"
      ],
      "execution_count": 4,
      "outputs": [
        {
          "output_type": "stream",
          "text": [
            "품사 태깅이 된 문장 개수:  3914\n"
          ],
          "name": "stdout"
        }
      ]
    },
    {
      "cell_type": "code",
      "metadata": {
        "id": "ymWA8L06Z0at",
        "outputId": "29183470-5f0f-4c76-c631-ac4ebe55fff5",
        "colab": {
          "base_uri": "https://localhost:8080/"
        }
      },
      "source": [
        "print(tagged_sentences[0]) # 첫번째 샘플 출력"
      ],
      "execution_count": 5,
      "outputs": [
        {
          "output_type": "stream",
          "text": [
            "[('Pierre', 'NNP'), ('Vinken', 'NNP'), (',', ','), ('61', 'CD'), ('years', 'NNS'), ('old', 'JJ'), (',', ','), ('will', 'MD'), ('join', 'VB'), ('the', 'DT'), ('board', 'NN'), ('as', 'IN'), ('a', 'DT'), ('nonexecutive', 'JJ'), ('director', 'NN'), ('Nov.', 'NNP'), ('29', 'CD'), ('.', '.')]\n"
          ],
          "name": "stdout"
        }
      ]
    },
    {
      "cell_type": "markdown",
      "metadata": {
        "id": "r5CwztWbrON8"
      },
      "source": [
        "##### 훈련을 시키려면 훈련 데이터에서 단어에 해당되는 부분과 품사 태깅 정보에 해당되는 부분을 분리시켜야 한다."
      ]
    },
    {
      "cell_type": "code",
      "metadata": {
        "id": "vQ3o7b8VZ3-b"
      },
      "source": [
        "sentences, pos_tags = [], [] \n",
        "for tagged_sentence in tagged_sentences: # 3,914개의 문장 샘플을 1개씩 불러온다.\n",
        "    sentence, tag_info = zip(*tagged_sentence) # 각 샘플에서 단어들은 sentence에 품사 태깅 정보들은 tag_info에 저장한다.\n",
        "    sentences.append(list(sentence)) # 각 샘플에서 단어 정보만 저장한다.\n",
        "    pos_tags.append(list(tag_info)) # 각 샘플에서 품사 태깅 정보만 저장한다."
      ],
      "execution_count": 6,
      "outputs": []
    },
    {
      "cell_type": "code",
      "metadata": {
        "id": "5tI-dzNwZ6ge",
        "outputId": "934f134f-fd9c-41c4-85ce-e5d86564100f",
        "colab": {
          "base_uri": "https://localhost:8080/"
        }
      },
      "source": [
        "print(sentences[0])\n",
        "print(pos_tags[0])"
      ],
      "execution_count": 7,
      "outputs": [
        {
          "output_type": "stream",
          "text": [
            "['Pierre', 'Vinken', ',', '61', 'years', 'old', ',', 'will', 'join', 'the', 'board', 'as', 'a', 'nonexecutive', 'director', 'Nov.', '29', '.']\n",
            "['NNP', 'NNP', ',', 'CD', 'NNS', 'JJ', ',', 'MD', 'VB', 'DT', 'NN', 'IN', 'DT', 'JJ', 'NN', 'NNP', 'CD', '.']\n"
          ],
          "name": "stdout"
        }
      ]
    },
    {
      "cell_type": "code",
      "metadata": {
        "id": "qRdatNEUrgXL",
        "outputId": "4812db1f-3213-48a8-9d76-ced12f23e197",
        "colab": {
          "base_uri": "https://localhost:8080/"
        }
      },
      "source": [
        "print(sentences[8])\n",
        "print(pos_tags[8])"
      ],
      "execution_count": 8,
      "outputs": [
        {
          "output_type": "stream",
          "text": [
            "['We', \"'re\", 'talking', 'about', 'years', 'ago', 'before', 'anyone', 'heard', 'of', 'asbestos', 'having', 'any', 'questionable', 'properties', '.']\n",
            "['PRP', 'VBP', 'VBG', 'IN', 'NNS', 'IN', 'IN', 'NN', 'VBD', 'IN', 'NN', 'VBG', 'DT', 'JJ', 'NNS', '.']\n"
          ],
          "name": "stdout"
        }
      ]
    },
    {
      "cell_type": "code",
      "metadata": {
        "id": "kxjruTJ_rh5z",
        "outputId": "2c95ef8f-5b2e-456f-fbd5-033a43af3afc",
        "colab": {
          "base_uri": "https://localhost:8080/",
          "height": 317
        }
      },
      "source": [
        "print('샘플의 최대 길이 : %d' % max(len(l) for l in sentences))\n",
        "print('샘플의 평균 길이 : %f' % (sum(map(len, sentences))/len(sentences)))\n",
        "plt.hist([len(s) for s in sentences], bins=50)\n",
        "plt.xlabel('length of samples')\n",
        "plt.ylabel('number of samples')\n",
        "plt.show()"
      ],
      "execution_count": 9,
      "outputs": [
        {
          "output_type": "stream",
          "text": [
            "샘플의 최대 길이 : 271\n",
            "샘플의 평균 길이 : 25.722024\n"
          ],
          "name": "stdout"
        },
        {
          "output_type": "display_data",
          "data": {
            "image/png": "[encoded data removed]",
            "text/plain": [
              "<Figure size 432x288 with 1 Axes>"
            ]
          },
          "metadata": {
            "tags": [],
            "needs_background": "light"
          }
        }
      ]
    },
    {
      "cell_type": "code",
      "metadata": {
        "id": "Uwsxb6UVroPo",
        "outputId": "d282d150-8b77-40e6-99a5-f362cd35c76c",
        "colab": {
          "base_uri": "https://localhost:8080/"
        }
      },
      "source": [
        "# 케라스 토그나이저를 통해 정수 인코딩 진행\n",
        "def tokenize(samples):\n",
        "  tokenizer = Tokenizer()\n",
        "  tokenizer.fit_on_texts(samples)\n",
        "  return tokenizer\n",
        "\n",
        "src_tokenizer = tokenize(sentences)\n",
        "tar_tokenizer = tokenize(pos_tags)\n",
        "\n",
        "vocab_size = len(src_tokenizer.word_index) + 1\n",
        "tag_size = len(tar_tokenizer.word_index) + 1\n",
        "print('단어 집합의 크기 : {}'.format(vocab_size))\n",
        "print('태깅 정보 집합의 크기 : {}'.format(tag_size))\n",
        "\n",
        "X_train = src_tokenizer.texts_to_sequences(sentences)\n",
        "y_train = tar_tokenizer.texts_to_sequences(pos_tags)"
      ],
      "execution_count": 13,
      "outputs": [
        {
          "output_type": "stream",
          "text": [
            "단어 집합의 크기 : 11388\n",
            "태깅 정보 집합의 크기 : 47\n"
          ],
          "name": "stdout"
        }
      ]
    },
    {
      "cell_type": "code",
      "metadata": {
        "id": "Z0naPhmmr2gc",
        "outputId": "a0c82fd3-47b0-4eb7-c4cd-a4ad93014353",
        "colab": {
          "base_uri": "https://localhost:8080/"
        }
      },
      "source": [
        "print(X_train[:2])\n",
        "print(y_train[:2])"
      ],
      "execution_count": 14,
      "outputs": [
        {
          "output_type": "stream",
          "text": [
            "[[5601, 3746, 1, 2024, 86, 331, 1, 46, 2405, 2, 131, 27, 6, 2025, 332, 459, 2026, 3], [31, 3746, 20, 177, 4, 5602, 2915, 1, 2, 2916, 637, 147, 3]]\n",
            "[[3, 3, 8, 10, 6, 7, 8, 21, 13, 4, 1, 2, 4, 7, 1, 3, 10, 9], [3, 3, 17, 1, 2, 3, 3, 8, 4, 3, 19, 1, 9]]\n"
          ],
          "name": "stdout"
        }
      ]
    },
    {
      "cell_type": "code",
      "metadata": {
        "id": "IeUkTwqir_g8"
      },
      "source": [
        "max_len = 150\n",
        "X_train = pad_sequences(X_train, padding='post', maxlen=max_len)\n",
        "# X_train의 모든 샘플의 길이를 맞출 때 뒤의 공간에 숫자 0으로 채움.\n",
        "y_train = pad_sequences(y_train, padding='post', maxlen=max_len)\n",
        "# y_train의 모든 샘플의 길이를 맞출 때 뒤의 공간에 숫자 0으로 채움."
      ],
      "execution_count": 15,
      "outputs": []
    },
    {
      "cell_type": "code",
      "metadata": {
        "id": "PWAYrv9asDiJ"
      },
      "source": [
        "# 훈련 데이터와 테스트 데이터 분리\n",
        "X_train, X_test, y_train, y_test = train_test_split(X_train, y_train, test_size=.2, random_state=777)"
      ],
      "execution_count": 17,
      "outputs": []
    },
    {
      "cell_type": "code",
      "metadata": {
        "id": "vpJCwT0UsHod"
      },
      "source": [
        "# 레이블에 해당하는 태깅 정보에 대해서 원-핫 인코딩 수행\n",
        "y_train = to_categorical(y_train, num_classes=tag_size)\n",
        "y_test = to_categorical(y_test, num_classes=tag_size)"
      ],
      "execution_count": 18,
      "outputs": []
    },
    {
      "cell_type": "code",
      "metadata": {
        "id": "lVhy-24-sOxI",
        "outputId": "1ba722f0-116f-4d19-dcb9-4deb9e8e198d",
        "colab": {
          "base_uri": "https://localhost:8080/"
        }
      },
      "source": [
        "print('훈련 샘플 문장의 크기 : {}'.format(X_train.shape))\n",
        "print('훈련 샘플 레이블의 크기 : {}'.format(y_train.shape))\n",
        "print('테스트 샘플 문장의 크기 : {}'.format(X_test.shape))\n",
        "print('테스트 샘플 레이블의 크기 : {}'.format(y_test.shape))"
      ],
      "execution_count": 19,
      "outputs": [
        {
          "output_type": "stream",
          "text": [
            "훈련 샘플 문장의 크기 : (2504, 150)\n",
            "훈련 샘플 레이블의 크기 : (2504, 150, 47)\n",
            "테스트 샘플 문장의 크기 : (627, 150)\n",
            "테스트 샘플 레이블의 크기 : (627, 150, 47)\n"
          ],
          "name": "stdout"
        }
      ]
    },
    {
      "cell_type": "markdown",
      "metadata": {
        "id": "thtvaznkZ9Dy"
      },
      "source": [
        "## 양방향 LSTM(Bi-directional LSTM)으로 POS Tagger 만들기\n",
        "\n"
      ]
    },
    {
      "cell_type": "code",
      "metadata": {
        "id": "7dun5I7KZ8UN"
      },
      "source": [
        "# from tensorflow.keras.models import Sequential\n",
        "# from tensorflow.keras.layers import Dense, LSTM, InputLayer, Bidirectional, TimeDistributed, Embedding\n",
        "# from tensorflow.keras.optimizers import Adam\n",
        "from keras.models import Sequential\n",
        "from keras.layers import Dense, LSTM, InputLayer, Bidirectional, TimeDistributed, Embedding\n",
        "from keras.optimizers import Adam"
      ],
      "execution_count": 20,
      "outputs": []
    },
    {
      "cell_type": "code",
      "metadata": {
        "id": "qEWUGOXVaIWD"
      },
      "source": [
        "model = Sequential()\n",
        "model.add(Embedding(vocab_size, 128, input_length=max_len, mask_zero=True))\n",
        "model.add(Bidirectional(LSTM(256, return_sequences=True)))\n",
        "model.add(TimeDistributed(Dense(tag_size, activation=('softmax'))))\n",
        "model.compile(loss='categorical_crossentropy', optimizer=Adam(0.001), metrics=['accuracy'])"
      ],
      "execution_count": 21,
      "outputs": []
    },
    {
      "cell_type": "code",
      "metadata": {
        "id": "zpOpPXKvaJvJ",
        "outputId": "4b4ac670-367d-406f-c57a-fca361f0a94c",
        "colab": {
          "base_uri": "https://localhost:8080/"
        }
      },
      "source": [
        "model.fit(X_train, y_train, batch_size=128, epochs=6,  validation_data=(X_test, y_test))"
      ],
      "execution_count": 22,
      "outputs": [
        {
          "output_type": "stream",
          "text": [
            "Epoch 1/6\n",
            "20/20 [==============================] - 59s 3s/step - loss: 0.5903 - accuracy: 0.1296 - val_loss: 0.5103 - val_accuracy: 0.1530\n",
            "Epoch 2/6\n",
            "20/20 [==============================] - 59s 3s/step - loss: 0.5089 - accuracy: 0.1807 - val_loss: 0.4811 - val_accuracy: 0.2704\n",
            "Epoch 3/6\n",
            "20/20 [==============================] - 56s 3s/step - loss: 0.4707 - accuracy: 0.3167 - val_loss: 0.4236 - val_accuracy: 0.4412\n",
            "Epoch 4/6\n",
            "20/20 [==============================] - 56s 3s/step - loss: 0.3778 - accuracy: 0.4784 - val_loss: 0.3011 - val_accuracy: 0.5426\n",
            "Epoch 5/6\n",
            "20/20 [==============================] - 56s 3s/step - loss: 0.2495 - accuracy: 0.6328 - val_loss: 0.1923 - val_accuracy: 0.7242\n",
            "Epoch 6/6\n",
            "20/20 [==============================] - 56s 3s/step - loss: 0.1478 - accuracy: 0.8071 - val_loss: 0.1196 - val_accuracy: 0.8403\n"
          ],
          "name": "stdout"
        },
        {
          "output_type": "execute_result",
          "data": {
            "text/plain": [
              "<tensorflow.python.keras.callbacks.History at 0x7f14585bbe10>"
            ]
          },
          "metadata": {
            "tags": []
          },
          "execution_count": 22
        }
      ]
    },
    {
      "cell_type": "code",
      "metadata": {
        "id": "eKJcUKa2aLqq",
        "outputId": "ab9dcc99-cf94-452f-cfbd-326e35306821",
        "colab": {
          "base_uri": "https://localhost:8080/"
        }
      },
      "source": [
        "print(\"\\n 테스트 정확도: %.4f\" % (model.evaluate(X_test, y_test)[1]))"
      ],
      "execution_count": 23,
      "outputs": [
        {
          "output_type": "stream",
          "text": [
            "20/20 [==============================] - 5s 235ms/step - loss: 0.1196 - accuracy: 0.8403\n",
            "\n",
            " 테스트 정확도: 0.8403\n"
          ],
          "name": "stdout"
        }
      ]
    },
    {
      "cell_type": "code",
      "metadata": {
        "id": "T8cTEJCxaNCs",
        "outputId": "f4c9b3ce-0f6c-4e1e-d9d4-e422ca5c5551",
        "colab": {
          "base_uri": "https://localhost:8080/"
        }
      },
      "source": [
        "# 인덱스로부터 단어와 품사 태깅 정보를 리턴하는 index_to_word와 index_to_tag를 만들고 이를 이용하여 실제값과 예측값을 출력\n",
        "\n",
        "index_to_word=src_tokenizer.index_word\n",
        "index_to_tag=tar_tokenizer.index_word\n",
        "\n",
        "i=10 # 확인하고 싶은 테스트용 샘플의 인덱스.\n",
        "y_predicted = model.predict(np.array([X_test[i]])) # 입력한 테스트용 샘플에 대해서 예측 y를 리턴\n",
        "y_predicted = np.argmax(y_predicted, axis=-1) # 원-핫 인코딩을 다시 정수 인코딩으로 변경함.\n",
        "true = np.argmax(y_test[i], -1) # 원-핫 인코딩을 다시 정수 인코딩으로 변경함.\n",
        "\n",
        "print(\"{:15}|{:5}|{}\".format(\"단어\", \"실제값\", \"예측값\"))\n",
        "print(35 * \"-\")\n",
        "\n",
        "for w, t, pred in zip(X_test[i], true, y_predicted[0]):\n",
        "    if w != 0: # PAD값은 제외함.\n",
        "        print(\"{:17}: {:7} {}\".format(index_to_word[w], index_to_tag[t].upper(), index_to_tag[pred].upper()))"
      ],
      "execution_count": 24,
      "outputs": [
        {
          "output_type": "stream",
          "text": [
            "단어             |실제값  |예측값\n",
            "-----------------------------------\n",
            "mr.              : NNP     NNP\n",
            "simmons          : NNP     NNP\n",
            "and              : CC      CC\n",
            "nl               : NNP     NNP\n",
            "already          : RB      RB\n",
            "own              : VB      JJ\n",
            "a                : DT      DT\n",
            "9.9              : CD      JJ\n",
            "%                : NN      NN\n",
            "stake            : NN      NN\n",
            "in               : IN      IN\n",
            "georgia          : NNP     NNP\n",
            "gulf             : NNP     NNP\n",
            ".                : .       .\n"
          ],
          "name": "stdout"
        }
      ]
    }
  ]
}