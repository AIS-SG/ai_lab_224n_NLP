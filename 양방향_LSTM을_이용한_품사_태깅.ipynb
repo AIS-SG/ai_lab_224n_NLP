{
  "nbformat": 4,
  "nbformat_minor": 0,
  "metadata": {
    "colab": {
      "name": "양방향 LSTM을 이용한 품사 태깅.ipynb",
      "provenance": [],
      "collapsed_sections": [],
      "include_colab_link": true
    },
    "kernelspec": {
      "name": "python3",
      "display_name": "Python 3"
    }
  },
  "cells": [
    {
      "cell_type": "markdown",
      "metadata": {
        "id": "view-in-github",
        "colab_type": "text"
      },
      "source": [
        "<a href=\"https://colab.research.google.com/github/AIS-SG/ai_lab_224n_NLP/blob/main/%EC%96%91%EB%B0%A9%ED%96%A5_LSTM%EC%9D%84_%EC%9D%B4%EC%9A%A9%ED%95%9C_%ED%92%88%EC%82%AC_%ED%83%9C%EA%B9%85.ipynb\" target=\"_parent\"><img src=\"https://colab.research.google.com/assets/colab-badge.svg\" alt=\"Open In Colab\"/></a>"
      ]
    },
    {
      "cell_type": "markdown",
      "metadata": {
        "id": "KUyLpIePfzka"
      },
      "source": [
        "# 딥러닝을 이용한 자연어 처리 입문 - 메모리 네트워크\n",
        "##### 참고자료 : https://wikidocs.net/82475"
      ]
    },
    {
      "cell_type": "markdown",
      "metadata": {
        "id": "YLz82YEpaCuJ"
      },
      "source": [
        "## 메모리 네트워크 구조\n",
        "### Babi 데이터셋 전처리하기\n"
      ]
    },
    {
      "cell_type": "code",
      "metadata": {
        "id": "1X75Tt0QDJ9M"
      },
      "source": [
        "from tensorflow.keras.utils import get_file\n",
        "from tensorflow.keras.preprocessing.sequence import pad_sequences\n",
        "from tensorflow.keras.utils import to_categorical\n",
        "import numpy as np\n",
        "import tarfile\n",
        "from nltk import FreqDist\n",
        "from functools import reduce\n",
        "import os\n",
        "import re\n",
        "import matplotlib.pyplot as plt"
      ],
      "execution_count": 1,
      "outputs": []
    },
    {
      "cell_type": "code",
      "metadata": {
        "id": "XorkIKfarENZ",
        "outputId": "3dfdb5b0-bf91-43f4-b862-d00d217fde18",
        "colab": {
          "base_uri": "https://localhost:8080/"
        }
      },
      "source": [
        "path = get_file('babi-tasks-v1-2.tar.gz', origin='https://s3.amazonaws.com/text-datasets/'\n",
        "                'babi_tasks_1-20_v1-2.tar.gz')"
      ],
      "execution_count": 2,
      "outputs": [
        {
          "output_type": "stream",
          "text": [
            "Downloading data from https://s3.amazonaws.com/text-datasets/babi_tasks_1-20_v1-2.tar.gz\n",
            "11747328/11745123 [==============================] - 2s 0us/step\n"
          ],
          "name": "stdout"
        }
      ]
    },
    {
      "cell_type": "code",
      "metadata": {
        "id": "EL2HEA7ZZxIo"
      },
      "source": [
        "with tarfile.open(path) as tar:\n",
        " tar.extractall()\n",
        " tar.close()\n",
        "\n",
        "DATA_DIR = 'tasks_1-20_v1-2/en-10k'\n",
        "TRAIN_FILE = os.path.join(DATA_DIR, \"qa1_single-supporting-fact_train.txt\")\n",
        "TEST_FILE = os.path.join(DATA_DIR, \"qa1_single-supporting-fact_test.txt\")"
      ],
      "execution_count": 3,
      "outputs": []
    },
    {
      "cell_type": "code",
      "metadata": {
        "id": "ymWA8L06Z0at",
        "outputId": "13113f51-8582-4e13-c89d-cb838e0f9b6d",
        "colab": {
          "base_uri": "https://localhost:8080/"
        }
      },
      "source": [
        "i = 0\n",
        "lines = open(TRAIN_FILE , \"rb\")\n",
        "for line in lines:\n",
        "    line = line.decode(\"utf-8\").strip()\n",
        "    # lno, text = line.split(\" \", 1) # ID와 TEXT 분리\n",
        "    i = i + 1\n",
        "    print(line)\n",
        "    if i == 20:\n",
        "      break"
      ],
      "execution_count": 4,
      "outputs": [
        {
          "output_type": "stream",
          "text": [
            "1 Mary moved to the bathroom.\n",
            "2 John went to the hallway.\n",
            "3 Where is Mary? \tbathroom\t1\n",
            "4 Daniel went back to the hallway.\n",
            "5 Sandra moved to the garden.\n",
            "6 Where is Daniel? \thallway\t4\n",
            "7 John moved to the office.\n",
            "8 Sandra journeyed to the bathroom.\n",
            "9 Where is Daniel? \thallway\t4\n",
            "10 Mary moved to the hallway.\n",
            "11 Daniel travelled to the office.\n",
            "12 Where is Daniel? \toffice\t11\n",
            "13 John went back to the garden.\n",
            "14 John moved to the bedroom.\n",
            "15 Where is Sandra? \tbathroom\t8\n",
            "1 Sandra travelled to the office.\n",
            "2 Sandra went to the bathroom.\n",
            "3 Where is Sandra? \tbathroom\t2\n",
            "4 Mary went to the bedroom.\n",
            "5 Daniel moved to the hallway.\n"
          ],
          "name": "stdout"
        }
      ]
    },
    {
      "cell_type": "code",
      "metadata": {
        "id": "vQ3o7b8VZ3-b"
      },
      "source": [
        "def read_data(dir):\n",
        "    stories, questions, answers = [], [], [] # 각각 스토리, 질문, 답변을 저장할 예정\n",
        "    story_temp = [] # 현재 시점의 스토리 임시 저장\n",
        "    lines = open(dir, \"rb\")\n",
        "\n",
        "    for line in lines:\n",
        "        line = line.decode(\"utf-8\") # b' 제거\n",
        "        line = line.strip() # '\\n' 제거\n",
        "        idx, text = line.split(\" \", 1) # 맨 앞에 있는 id number 분리\n",
        "        # 여기까지는 모든 줄에 적용되는 전처리\n",
        "\n",
        "        if int(idx) == 1:\n",
        "            story_temp = []\n",
        "\n",
        "        if \"\\t\" in text: # 현재 읽는 줄이 질문 (tab) 답변 (tab)인 경우\n",
        "            question, answer, _ = text.split(\"\\t\") # 질문과 답변을 각각 저장\n",
        "            stories.append([x for x in story_temp if x]) # 지금까지의 누적 스토리를 스토리에 저장\n",
        "            questions.append(question)\n",
        "            answers.append(answer)\n",
        "\n",
        "        else: # 현재 읽는 줄이 스토리인 경우\n",
        "            story_temp.append(text) # 임시 저장\n",
        "\n",
        "    lines.close()\n",
        "    return stories, questions, answers"
      ],
      "execution_count": 5,
      "outputs": []
    },
    {
      "cell_type": "code",
      "metadata": {
        "id": "5tI-dzNwZ6ge"
      },
      "source": [
        "train_data = read_data(TRAIN_FILE)\n",
        "test_data = read_data(TEST_FILE)"
      ],
      "execution_count": 6,
      "outputs": []
    },
    {
      "cell_type": "code",
      "metadata": {
        "id": "qRdatNEUrgXL"
      },
      "source": [
        "train_stories, train_questions, train_answers = read_data(TRAIN_FILE)\n",
        "test_stories, test_questions, test_answers = read_data(TEST_FILE)"
      ],
      "execution_count": 7,
      "outputs": []
    },
    {
      "cell_type": "code",
      "metadata": {
        "id": "kxjruTJ_rh5z",
        "outputId": "9221bf9f-8f1f-4978-ba78-698ef6c85010",
        "colab": {
          "base_uri": "https://localhost:8080/"
        }
      },
      "source": [
        "print('훈련용 스토리의 개수 :', len(train_stories))\n",
        "print('훈련용 질문의 개수 :',len(train_questions))\n",
        "print('훈련용 답변의 개수 :',len(train_answers))\n",
        "print('테스트용 스토리의 개수 :',len(test_stories))\n",
        "print('테스트용 질문의 개수 :',len(test_questions))\n",
        "print('테스트용 답변의 개수 :',len(test_answers))"
      ],
      "execution_count": 8,
      "outputs": [
        {
          "output_type": "stream",
          "text": [
            "훈련용 스토리의 개수 : 10000\n",
            "훈련용 질문의 개수 : 10000\n",
            "훈련용 답변의 개수 : 10000\n",
            "테스트용 스토리의 개수 : 1000\n",
            "테스트용 질문의 개수 : 1000\n",
            "테스트용 답변의 개수 : 1000\n"
          ],
          "name": "stdout"
        }
      ]
    },
    {
      "cell_type": "code",
      "metadata": {
        "id": "Uwsxb6UVroPo",
        "outputId": "32e91eb1-8d10-4625-d6d6-22ac646ac543",
        "colab": {
          "base_uri": "https://localhost:8080/"
        }
      },
      "source": [
        "train_stories[3576]"
      ],
      "execution_count": 9,
      "outputs": [
        {
          "output_type": "execute_result",
          "data": {
            "text/plain": [
              "['John went back to the garden.',\n",
              " 'Mary went to the kitchen.',\n",
              " 'Sandra went back to the bedroom.',\n",
              " 'John travelled to the bedroom.']"
            ]
          },
          "metadata": {
            "tags": []
          },
          "execution_count": 9
        }
      ]
    },
    {
      "cell_type": "code",
      "metadata": {
        "id": "Z0naPhmmr2gc",
        "outputId": "db859395-2add-4a9b-fd0a-e09e550c92e2",
        "colab": {
          "base_uri": "https://localhost:8080/",
          "height": 37
        }
      },
      "source": [
        "train_questions[3576]"
      ],
      "execution_count": 10,
      "outputs": [
        {
          "output_type": "execute_result",
          "data": {
            "application/vnd.google.colaboratory.intrinsic+json": {
              "type": "string"
            },
            "text/plain": [
              "'Where is John? '"
            ]
          },
          "metadata": {
            "tags": []
          },
          "execution_count": 10
        }
      ]
    },
    {
      "cell_type": "code",
      "metadata": {
        "id": "IeUkTwqir_g8",
        "outputId": "f510cba1-44e1-4ba9-971a-a4c799701f91",
        "colab": {
          "base_uri": "https://localhost:8080/",
          "height": 37
        }
      },
      "source": [
        "train_answers[3576]"
      ],
      "execution_count": 11,
      "outputs": [
        {
          "output_type": "execute_result",
          "data": {
            "application/vnd.google.colaboratory.intrinsic+json": {
              "type": "string"
            },
            "text/plain": [
              "'bedroom'"
            ]
          },
          "metadata": {
            "tags": []
          },
          "execution_count": 11
        }
      ]
    },
    {
      "cell_type": "code",
      "metadata": {
        "id": "PWAYrv9asDiJ"
      },
      "source": [
        "def tokenize(sent):\n",
        "    return [ x.strip() for x in re.split('(\\W+)?', sent) if x.strip()]"
      ],
      "execution_count": 12,
      "outputs": []
    },
    {
      "cell_type": "code",
      "metadata": {
        "id": "vpJCwT0UsHod"
      },
      "source": [
        "def preprocess_data(train_data, test_data):\n",
        "    counter = FreqDist()\n",
        "\n",
        "    # 두 문장의 story를 하나의 문장으로 통합하는 함수\n",
        "    flatten = lambda data: reduce(lambda x, y: x + y, data)\n",
        "\n",
        "    # 각 샘플의 길이를 저장하는 리스트\n",
        "    story_len = []\n",
        "    question_len = []\n",
        "\n",
        "    for stories, questions, answers in [train_data, test_data]:\n",
        "        for story in stories:\n",
        "            stories = tokenize(flatten(story)) # 스토리의 문장들을 펼친 후 토큰화\n",
        "            story_len.append(len(stories)) # 각 story의 길이 저장\n",
        "            for word in stories: # 단어 집합에 단어 추가\n",
        "                counter[word] += 1\n",
        "        for question in questions:\n",
        "            question = tokenize(question)\n",
        "            question_len.append(len(question))\n",
        "            for word in question:\n",
        "                counter[word] += 1\n",
        "        for answer in answers:\n",
        "            answer = tokenize(answer)\n",
        "            for word in answer:\n",
        "                counter[word] += 1\n",
        "\n",
        "    # 단어 집합 생성\n",
        "    word2idx = {word : (idx + 1) for idx, (word, _) in enumerate(counter.most_common())}\n",
        "    idx2word = {idx : word for word, idx in word2idx.items()}\n",
        "\n",
        "    # 가장 긴 샘플의 길이\n",
        "    story_max_len = np.max(story_len)\n",
        "    question_max_len = np.max(question_len)\n",
        "\n",
        "    return word2idx, idx2word, story_max_len, question_max_len"
      ],
      "execution_count": 13,
      "outputs": []
    },
    {
      "cell_type": "code",
      "metadata": {
        "id": "lVhy-24-sOxI",
        "outputId": "dd17604f-d063-427b-9a1c-ccb3bc107490",
        "colab": {
          "base_uri": "https://localhost:8080/"
        }
      },
      "source": [
        "word2idx, idx2word, story_max_len, question_max_len = preprocess_data(train_data, test_data)"
      ],
      "execution_count": 14,
      "outputs": [
        {
          "output_type": "stream",
          "text": [
            "/usr/lib/python3.6/re.py:212: FutureWarning: split() requires a non-empty pattern match.\n",
            "  return _compile(pattern, flags).split(string, maxsplit)\n"
          ],
          "name": "stderr"
        }
      ]
    },
    {
      "cell_type": "code",
      "metadata": {
        "id": "7dun5I7KZ8UN",
        "outputId": "d1eb48f9-b92c-4e71-e55c-27813825f7f0",
        "colab": {
          "base_uri": "https://localhost:8080/"
        }
      },
      "source": [
        "print(word2idx)"
      ],
      "execution_count": 15,
      "outputs": [
        {
          "output_type": "stream",
          "text": [
            "{'to': 1, 'the': 2, '.': 3, 'went': 4, 'Sandra': 5, 'John': 6, 'Daniel': 7, 'Mary': 8, 'travelled': 9, 'journeyed': 10, 'back': 11, 'bathroom': 12, 'garden': 13, 'hallway': 14, 'moved': 15, 'office': 16, 'kitchen': 17, 'bedroom': 18, 'Where': 19, 'is': 20, '?': 21}\n"
          ],
          "name": "stdout"
        }
      ]
    },
    {
      "cell_type": "code",
      "metadata": {
        "id": "qEWUGOXVaIWD"
      },
      "source": [
        "vocab_size = len(word2idx) + 1"
      ],
      "execution_count": 16,
      "outputs": []
    },
    {
      "cell_type": "code",
      "metadata": {
        "id": "zpOpPXKvaJvJ",
        "outputId": "645476a2-4dea-473f-860b-d0ffc8ae50ec",
        "colab": {
          "base_uri": "https://localhost:8080/"
        }
      },
      "source": [
        "print('스토리의 최대 길이 :',story_max_len)\n",
        "print('질문의 최대 길이 :',question_max_len)"
      ],
      "execution_count": 17,
      "outputs": [
        {
          "output_type": "stream",
          "text": [
            "스토리의 최대 길이 : 68\n",
            "질문의 최대 길이 : 4\n"
          ],
          "name": "stdout"
        }
      ]
    },
    {
      "cell_type": "code",
      "metadata": {
        "id": "eKJcUKa2aLqq"
      },
      "source": [
        "def vectorize(data, word2idx, story_maxlen, question_maxlen):\n",
        "    Xs, Xq, Y = [], [], []\n",
        "    flatten = lambda data: reduce(lambda x, y: x + y, data)\n",
        "\n",
        "    stories, questions, answers = data\n",
        "    for story, question, answer in zip(stories, questions, answers):\n",
        "        xs = [word2idx[w] for w in tokenize(flatten(story))]\n",
        "        xq = [word2idx[w] for w in tokenize(question)]\n",
        "        Xs.append(xs)\n",
        "        Xq.append(xq)\n",
        "        Y.append(word2idx[answer])\n",
        "\n",
        "        # 스토리와 질문은 각각의 최대 길이로 패딩\n",
        "        # 정답은 원-핫 인코딩\n",
        "    return pad_sequences(Xs, maxlen=story_maxlen),\\\n",
        "           pad_sequences(Xq, maxlen=question_maxlen),\\\n",
        "           to_categorical(Y, num_classes=len(word2idx) + 1)"
      ],
      "execution_count": 18,
      "outputs": []
    },
    {
      "cell_type": "code",
      "metadata": {
        "id": "T8cTEJCxaNCs",
        "outputId": "c3c1b271-607d-40bb-ae92-6c456987e794",
        "colab": {
          "base_uri": "https://localhost:8080/"
        }
      },
      "source": [
        "Xstrain, Xqtrain, Ytrain = vectorize(train_data, word2idx, story_max_len, question_max_len)\n",
        "Xstest, Xqtest, Ytest = vectorize(test_data, word2idx, story_max_len, question_max_len)"
      ],
      "execution_count": 19,
      "outputs": [
        {
          "output_type": "stream",
          "text": [
            "/usr/lib/python3.6/re.py:212: FutureWarning: split() requires a non-empty pattern match.\n",
            "  return _compile(pattern, flags).split(string, maxsplit)\n"
          ],
          "name": "stderr"
        }
      ]
    },
    {
      "cell_type": "code",
      "metadata": {
        "id": "PIbeRYV33_Wg",
        "outputId": "2ccd67c4-86d1-4e77-c847-4241e138f3d2",
        "colab": {
          "base_uri": "https://localhost:8080/"
        }
      },
      "source": [
        "print(Xstrain.shape, Xqtrain.shape, Ytrain.shape, Xstest.shape, Xqtest.shape, Ytest.shape)"
      ],
      "execution_count": 20,
      "outputs": [
        {
          "output_type": "stream",
          "text": [
            "(10000, 68) (10000, 4) (10000, 22) (1000, 68) (1000, 4) (1000, 22)\n"
          ],
          "name": "stdout"
        }
      ]
    },
    {
      "cell_type": "markdown",
      "metadata": {
        "id": "dnQexuw_4C-A"
      },
      "source": [
        "## 메모리 네트워크로 QA 태스크 풀기"
      ]
    },
    {
      "cell_type": "code",
      "metadata": {
        "id": "bK_DQTNI4BMh"
      },
      "source": [
        "from tensorflow.keras.models import Sequential, Model\n",
        "from tensorflow.keras.layers import Embedding\n",
        "from tensorflow.keras.layers import Permute, dot, add, concatenate\n",
        "from tensorflow.keras.layers import LSTM, Dense, Dropout, Input, Activation"
      ],
      "execution_count": 21,
      "outputs": []
    },
    {
      "cell_type": "code",
      "metadata": {
        "id": "ZDQD37pz4HuQ"
      },
      "source": [
        "train_epochs = 120\n",
        "# 배치 크기\n",
        "batch_size = 32\n",
        "# 임베딩 크기\n",
        "embed_size = 50\n",
        "# LSTM의 크기\n",
        "lstm_size = 64\n",
        "# 과적합 방지 기법인 드롭아웃 적용 비율\n",
        "dropout_rate = 0.30"
      ],
      "execution_count": 22,
      "outputs": []
    },
    {
      "cell_type": "code",
      "metadata": {
        "id": "YuaTl_qN4JYX",
        "outputId": "564d2a54-47f0-4079-808c-3d7b7a82a4de",
        "colab": {
          "base_uri": "https://localhost:8080/"
        }
      },
      "source": [
        "# 플레이스 홀더. 입력을 담는 변수\n",
        "input_sequence = Input((story_max_len,))\n",
        "question = Input((question_max_len,))\n",
        "\n",
        "print('Stories :', input_sequence)\n",
        "print('Question:', question)"
      ],
      "execution_count": 23,
      "outputs": [
        {
          "output_type": "stream",
          "text": [
            "Stories : Tensor(\"input_1:0\", shape=(None, 68), dtype=float32)\n",
            "Question: Tensor(\"input_2:0\", shape=(None, 4), dtype=float32)\n"
          ],
          "name": "stdout"
        }
      ]
    },
    {
      "cell_type": "code",
      "metadata": {
        "id": "xKybIeq84LAh"
      },
      "source": [
        "# 스토리를 위한 첫번째 임베딩. 그림에서의 Embedding A\n",
        "input_encoder_m = Sequential()\n",
        "input_encoder_m.add(Embedding(input_dim=vocab_size,\n",
        "                              output_dim=embed_size))\n",
        "input_encoder_m.add(Dropout(dropout_rate))\n",
        "# 결과 : (samples, story_max_len, embedding_dim) / 샘플의 수, 문장의 최대 길이, 임베딩 벡터의 차원\n",
        "\n",
        "# 스토리를 위한 두번째 임베딩. 그림에서의 Embedding C\n",
        "# 임베딩 벡터의 차원을 question_max_len(질문의 최대 길이)로 한다.\n",
        "input_encoder_c = Sequential()\n",
        "input_encoder_c.add(Embedding(input_dim=vocab_size,\n",
        "                              output_dim=question_max_len))\n",
        "input_encoder_c.add(Dropout(dropout_rate))\n",
        "# 결과 : (samples, story_max_len, question_max_len) / 샘플의 수, 문장의 최대 길이, 질문의 최대 길이(임베딩 벡터의 차원)"
      ],
      "execution_count": 24,
      "outputs": []
    },
    {
      "cell_type": "code",
      "metadata": {
        "id": "rmwdxxXz4OtH"
      },
      "source": [
        "# 질문을 위한 임베딩. 그림에서의 Embedding B\n",
        "question_encoder = Sequential()\n",
        "question_encoder.add(Embedding(input_dim=vocab_size,\n",
        "                               output_dim=embed_size,\n",
        "                               input_length=question_max_len))\n",
        "question_encoder.add(Dropout(dropout_rate))\n",
        "# 결과 : (samples, question_max_len, embedding_dim) / 샘플의 수, 질문의 최대 길이, 임베딩 벡터의 차원"
      ],
      "execution_count": 25,
      "outputs": []
    },
    {
      "cell_type": "code",
      "metadata": {
        "id": "32-3mYdR4QnO",
        "outputId": "6f2dfec2-f8ef-4fba-b01e-905356dbcadd",
        "colab": {
          "base_uri": "https://localhost:8080/"
        }
      },
      "source": [
        "# 실질적인 임베딩 과정\n",
        "input_encoded_m = input_encoder_m(input_sequence)\n",
        "input_encoded_c = input_encoder_c(input_sequence)\n",
        "question_encoded = question_encoder(question)\n",
        "\n",
        "print('Input encoded m', input_encoded_m)\n",
        "print('Input encoded c', input_encoded_c)\n",
        "print('Question encoded', question_encoded)"
      ],
      "execution_count": 26,
      "outputs": [
        {
          "output_type": "stream",
          "text": [
            "Input encoded m Tensor(\"sequential/dropout/cond/Identity:0\", shape=(None, 68, 50), dtype=float32)\n",
            "Input encoded c Tensor(\"sequential_1/dropout_1/cond/Identity:0\", shape=(None, 68, 4), dtype=float32)\n",
            "Question encoded Tensor(\"sequential_2/dropout_2/cond/Identity:0\", shape=(None, 4, 50), dtype=float32)\n"
          ],
          "name": "stdout"
        }
      ]
    },
    {
      "cell_type": "code",
      "metadata": {
        "id": "FJv_C9nV4SvO",
        "outputId": "824dc157-97f8-4278-a88d-8aae41309ab3",
        "colab": {
          "base_uri": "https://localhost:8080/"
        }
      },
      "source": [
        "# 스토리 단어들과 질문 단어들 간의 유사도를 구하는 과정\n",
        "# 유사도는 내적을 사용한다.\n",
        "match = dot([input_encoded_m, question_encoded], axes=-1, normalize=False)\n",
        "match = Activation('softmax')(match)\n",
        "print('Match shape', match)\n",
        "# 결과 : (samples, story_maxlen, question_max_len) / 샘플의 수, 문장의 최대 길이, 질문의 최대 길이\n",
        "\n",
        "# add the match matrix with the second input vector sequence\n",
        "response = add([match, input_encoded_c])  # (samples, story_max_len, question_max_len)\n",
        "response = Permute((2, 1))(response)  # (samples, question_max_len, story_max_len)\n",
        "print('Response shape', response)\n",
        "\n",
        "# concatenate the response vector with the question vector sequence\n",
        "answer = concatenate([response, question_encoded])\n",
        "print('Answer shape', answer)\n",
        "\n",
        "answer = LSTM(lstm_size)(answer)  # Generate tensors of shape 32\n",
        "answer = Dropout(dropout_rate)(answer)\n",
        "answer = Dense(vocab_size)(answer)  # (samples, vocab_size)\n",
        "# we output a probability distribution over the vocabulary\n",
        "answer = Activation('softmax')(answer)"
      ],
      "execution_count": 27,
      "outputs": [
        {
          "output_type": "stream",
          "text": [
            "Match shape Tensor(\"activation/truediv:0\", shape=(None, 68, 4), dtype=float32)\n",
            "Response shape Tensor(\"permute/transpose:0\", shape=(None, 4, 68), dtype=float32)\n",
            "Answer shape Tensor(\"concatenate/concat:0\", shape=(None, 4, 118), dtype=float32)\n"
          ],
          "name": "stdout"
        }
      ]
    },
    {
      "cell_type": "code",
      "metadata": {
        "id": "qgrRfsNW4VPW",
        "outputId": "dfbdeb16-e5ff-4098-d7a1-42a6dbedfcf6",
        "colab": {
          "base_uri": "https://localhost:8080/"
        }
      },
      "source": [
        "# build the final model\n",
        "model = Model([input_sequence, question], answer)\n",
        "model.compile(optimizer='rmsprop', loss='categorical_crossentropy',\n",
        "              metrics=['acc'])\n",
        "\n",
        "print(model.summary())\n",
        "\n",
        "# start training the model\n",
        "history = model.fit([Xstrain, Xqtrain],\n",
        "         Ytrain, batch_size, train_epochs,\n",
        "         validation_data=([Xstest, Xqtest], Ytest))\n",
        "\n",
        "# save model\n",
        "model.save('model.h5')"
      ],
      "execution_count": 29,
      "outputs": [
        {
          "output_type": "stream",
          "text": [
            "Model: \"functional_1\"\n",
            "__________________________________________________________________________________________________\n",
            "Layer (type)                    Output Shape         Param #     Connected to                     \n",
            "==================================================================================================\n",
            "input_1 (InputLayer)            [(None, 68)]         0                                            \n",
            "__________________________________________________________________________________________________\n",
            "input_2 (InputLayer)            [(None, 4)]          0                                            \n",
            "__________________________________________________________________________________________________\n",
            "sequential (Sequential)         (None, None, 50)     1100        input_1[0][0]                    \n",
            "__________________________________________________________________________________________________\n",
            "sequential_2 (Sequential)       (None, 4, 50)        1100        input_2[0][0]                    \n",
            "__________________________________________________________________________________________________\n",
            "dot (Dot)                       (None, 68, 4)        0           sequential[0][0]                 \n",
            "                                                                 sequential_2[0][0]               \n",
            "__________________________________________________________________________________________________\n",
            "activation (Activation)         (None, 68, 4)        0           dot[0][0]                        \n",
            "__________________________________________________________________________________________________\n",
            "sequential_1 (Sequential)       (None, None, 4)      88          input_1[0][0]                    \n",
            "__________________________________________________________________________________________________\n",
            "add (Add)                       (None, 68, 4)        0           activation[0][0]                 \n",
            "                                                                 sequential_1[0][0]               \n",
            "__________________________________________________________________________________________________\n",
            "permute (Permute)               (None, 4, 68)        0           add[0][0]                        \n",
            "__________________________________________________________________________________________________\n",
            "concatenate (Concatenate)       (None, 4, 118)       0           permute[0][0]                    \n",
            "                                                                 sequential_2[0][0]               \n",
            "__________________________________________________________________________________________________\n",
            "lstm (LSTM)                     (None, 64)           46848       concatenate[0][0]                \n",
            "__________________________________________________________________________________________________\n",
            "dropout_3 (Dropout)             (None, 64)           0           lstm[0][0]                       \n",
            "__________________________________________________________________________________________________\n",
            "dense (Dense)                   (None, 22)           1430        dropout_3[0][0]                  \n",
            "__________________________________________________________________________________________________\n",
            "activation_1 (Activation)       (None, 22)           0           dense[0][0]                      \n",
            "==================================================================================================\n",
            "Total params: 50,566\n",
            "Trainable params: 50,566\n",
            "Non-trainable params: 0\n",
            "__________________________________________________________________________________________________\n",
            "None\n",
            "Epoch 1/120\n",
            "313/313 [==============================] - 3s 10ms/step - loss: 1.8745 - acc: 0.1774 - val_loss: 1.7695 - val_acc: 0.1820\n",
            "Epoch 2/120\n",
            "313/313 [==============================] - 3s 9ms/step - loss: 1.6732 - acc: 0.2705 - val_loss: 1.5871 - val_acc: 0.3780\n",
            "Epoch 3/120\n",
            "313/313 [==============================] - 3s 9ms/step - loss: 1.5328 - acc: 0.3801 - val_loss: 1.5052 - val_acc: 0.3930\n",
            "Epoch 4/120\n",
            "313/313 [==============================] - 3s 9ms/step - loss: 1.4830 - acc: 0.4034 - val_loss: 1.4734 - val_acc: 0.4250\n",
            "Epoch 5/120\n",
            "313/313 [==============================] - 3s 8ms/step - loss: 1.4482 - acc: 0.4289 - val_loss: 1.4173 - val_acc: 0.4560\n",
            "Epoch 6/120\n",
            "313/313 [==============================] - 3s 8ms/step - loss: 1.3973 - acc: 0.4570 - val_loss: 1.3548 - val_acc: 0.4950\n",
            "Epoch 7/120\n",
            "313/313 [==============================] - 3s 8ms/step - loss: 1.3568 - acc: 0.4797 - val_loss: 1.3487 - val_acc: 0.4880\n",
            "Epoch 8/120\n",
            "313/313 [==============================] - 3s 9ms/step - loss: 1.3339 - acc: 0.4886 - val_loss: 1.3137 - val_acc: 0.5010\n",
            "Epoch 9/120\n",
            "313/313 [==============================] - 3s 8ms/step - loss: 1.3134 - acc: 0.4960 - val_loss: 1.3048 - val_acc: 0.5040\n",
            "Epoch 10/120\n",
            "313/313 [==============================] - 3s 8ms/step - loss: 1.2867 - acc: 0.5056 - val_loss: 1.2818 - val_acc: 0.5060\n",
            "Epoch 11/120\n",
            "313/313 [==============================] - 3s 8ms/step - loss: 1.2645 - acc: 0.5076 - val_loss: 1.2779 - val_acc: 0.4950\n",
            "Epoch 12/120\n",
            "313/313 [==============================] - 3s 8ms/step - loss: 1.2383 - acc: 0.5158 - val_loss: 1.2253 - val_acc: 0.5160\n",
            "Epoch 13/120\n",
            "313/313 [==============================] - 3s 8ms/step - loss: 1.2130 - acc: 0.5164 - val_loss: 1.1945 - val_acc: 0.5330\n",
            "Epoch 14/120\n",
            "313/313 [==============================] - 3s 8ms/step - loss: 1.2058 - acc: 0.5160 - val_loss: 1.2135 - val_acc: 0.5220\n",
            "Epoch 15/120\n",
            "313/313 [==============================] - 3s 8ms/step - loss: 1.1943 - acc: 0.5187 - val_loss: 1.2034 - val_acc: 0.5220\n",
            "Epoch 16/120\n",
            "313/313 [==============================] - 3s 8ms/step - loss: 1.1850 - acc: 0.5163 - val_loss: 1.1737 - val_acc: 0.5290\n",
            "Epoch 17/120\n",
            "313/313 [==============================] - 3s 8ms/step - loss: 1.1643 - acc: 0.5261 - val_loss: 1.1790 - val_acc: 0.5150\n",
            "Epoch 18/120\n",
            "313/313 [==============================] - 3s 8ms/step - loss: 1.1608 - acc: 0.5206 - val_loss: 1.1730 - val_acc: 0.5190\n",
            "Epoch 19/120\n",
            "313/313 [==============================] - 3s 8ms/step - loss: 1.1523 - acc: 0.5306 - val_loss: 1.1571 - val_acc: 0.5180\n",
            "Epoch 20/120\n",
            "313/313 [==============================] - 3s 8ms/step - loss: 1.1453 - acc: 0.5302 - val_loss: 1.1642 - val_acc: 0.5190\n",
            "Epoch 21/120\n",
            "313/313 [==============================] - 3s 8ms/step - loss: 1.1393 - acc: 0.5271 - val_loss: 1.1572 - val_acc: 0.5120\n",
            "Epoch 22/120\n",
            "313/313 [==============================] - 3s 8ms/step - loss: 1.1306 - acc: 0.5269 - val_loss: 1.1864 - val_acc: 0.4950\n",
            "Epoch 23/120\n",
            "313/313 [==============================] - 3s 8ms/step - loss: 1.1144 - acc: 0.5329 - val_loss: 1.1562 - val_acc: 0.5220\n",
            "Epoch 24/120\n",
            "313/313 [==============================] - 3s 8ms/step - loss: 1.1131 - acc: 0.5283 - val_loss: 1.2005 - val_acc: 0.5210\n",
            "Epoch 25/120\n",
            "313/313 [==============================] - 3s 8ms/step - loss: 1.1136 - acc: 0.5317 - val_loss: 1.1629 - val_acc: 0.5230\n",
            "Epoch 26/120\n",
            "313/313 [==============================] - 3s 8ms/step - loss: 1.1069 - acc: 0.5357 - val_loss: 1.1581 - val_acc: 0.5100\n",
            "Epoch 27/120\n",
            "313/313 [==============================] - 3s 8ms/step - loss: 1.0997 - acc: 0.5306 - val_loss: 1.1727 - val_acc: 0.5210\n",
            "Epoch 28/120\n",
            "313/313 [==============================] - 3s 8ms/step - loss: 1.0918 - acc: 0.5358 - val_loss: 1.1644 - val_acc: 0.5160\n",
            "Epoch 29/120\n",
            "313/313 [==============================] - 3s 8ms/step - loss: 1.0881 - acc: 0.5400 - val_loss: 1.1584 - val_acc: 0.5150\n",
            "Epoch 30/120\n",
            "313/313 [==============================] - 3s 8ms/step - loss: 1.0842 - acc: 0.5426 - val_loss: 1.1497 - val_acc: 0.5150\n",
            "Epoch 31/120\n",
            "313/313 [==============================] - 3s 9ms/step - loss: 1.0755 - acc: 0.5429 - val_loss: 1.1819 - val_acc: 0.5160\n",
            "Epoch 32/120\n",
            "313/313 [==============================] - 3s 8ms/step - loss: 1.0715 - acc: 0.5500 - val_loss: 1.1552 - val_acc: 0.5150\n",
            "Epoch 33/120\n",
            "313/313 [==============================] - 3s 8ms/step - loss: 1.0635 - acc: 0.5477 - val_loss: 1.1625 - val_acc: 0.5130\n",
            "Epoch 34/120\n",
            "313/313 [==============================] - 3s 8ms/step - loss: 1.0588 - acc: 0.5523 - val_loss: 1.1664 - val_acc: 0.5130\n",
            "Epoch 35/120\n",
            "313/313 [==============================] - 3s 8ms/step - loss: 1.0488 - acc: 0.5542 - val_loss: 1.1491 - val_acc: 0.4980\n",
            "Epoch 36/120\n",
            "313/313 [==============================] - 3s 8ms/step - loss: 1.0389 - acc: 0.5539 - val_loss: 1.1542 - val_acc: 0.5040\n",
            "Epoch 37/120\n",
            "313/313 [==============================] - 3s 8ms/step - loss: 1.0329 - acc: 0.5615 - val_loss: 1.1675 - val_acc: 0.5070\n",
            "Epoch 38/120\n",
            "313/313 [==============================] - 3s 8ms/step - loss: 1.0348 - acc: 0.5545 - val_loss: 1.1739 - val_acc: 0.5160\n",
            "Epoch 39/120\n",
            "313/313 [==============================] - 3s 8ms/step - loss: 1.0245 - acc: 0.5646 - val_loss: 1.1551 - val_acc: 0.4920\n",
            "Epoch 40/120\n",
            "313/313 [==============================] - 3s 8ms/step - loss: 1.0219 - acc: 0.5602 - val_loss: 1.1719 - val_acc: 0.5170\n",
            "Epoch 41/120\n",
            "313/313 [==============================] - 3s 8ms/step - loss: 1.0061 - acc: 0.5726 - val_loss: 1.1914 - val_acc: 0.5020\n",
            "Epoch 42/120\n",
            "313/313 [==============================] - 3s 9ms/step - loss: 1.0088 - acc: 0.5735 - val_loss: 1.1658 - val_acc: 0.5140\n",
            "Epoch 43/120\n",
            "313/313 [==============================] - 3s 8ms/step - loss: 0.9985 - acc: 0.5795 - val_loss: 1.1720 - val_acc: 0.5110\n",
            "Epoch 44/120\n",
            "313/313 [==============================] - 3s 8ms/step - loss: 0.9768 - acc: 0.5877 - val_loss: 1.1712 - val_acc: 0.5060\n",
            "Epoch 45/120\n",
            "313/313 [==============================] - 3s 8ms/step - loss: 0.9734 - acc: 0.5869 - val_loss: 1.1673 - val_acc: 0.5100\n",
            "Epoch 46/120\n",
            "313/313 [==============================] - 3s 9ms/step - loss: 0.9546 - acc: 0.5983 - val_loss: 1.1521 - val_acc: 0.5310\n",
            "Epoch 47/120\n",
            "313/313 [==============================] - 3s 9ms/step - loss: 0.9344 - acc: 0.6076 - val_loss: 1.1284 - val_acc: 0.5440\n",
            "Epoch 48/120\n",
            "313/313 [==============================] - 3s 9ms/step - loss: 0.9139 - acc: 0.6326 - val_loss: 1.1092 - val_acc: 0.5590\n",
            "Epoch 49/120\n",
            "313/313 [==============================] - 3s 9ms/step - loss: 0.8950 - acc: 0.6437 - val_loss: 1.1126 - val_acc: 0.5750\n",
            "Epoch 50/120\n",
            "313/313 [==============================] - 3s 8ms/step - loss: 0.8541 - acc: 0.6641 - val_loss: 1.0539 - val_acc: 0.6070\n",
            "Epoch 51/120\n",
            "313/313 [==============================] - 3s 8ms/step - loss: 0.8158 - acc: 0.6905 - val_loss: 0.9974 - val_acc: 0.6260\n",
            "Epoch 52/120\n",
            "313/313 [==============================] - 3s 8ms/step - loss: 0.7758 - acc: 0.7057 - val_loss: 0.9778 - val_acc: 0.6380\n",
            "Epoch 53/120\n",
            "313/313 [==============================] - 3s 8ms/step - loss: 0.7492 - acc: 0.7228 - val_loss: 0.9188 - val_acc: 0.6670\n",
            "Epoch 54/120\n",
            "313/313 [==============================] - 3s 9ms/step - loss: 0.7076 - acc: 0.7372 - val_loss: 0.8971 - val_acc: 0.6700\n",
            "Epoch 55/120\n",
            "313/313 [==============================] - 3s 8ms/step - loss: 0.6684 - acc: 0.7566 - val_loss: 0.8735 - val_acc: 0.6780\n",
            "Epoch 56/120\n",
            "313/313 [==============================] - 3s 8ms/step - loss: 0.6452 - acc: 0.7598 - val_loss: 0.8332 - val_acc: 0.7140\n",
            "Epoch 57/120\n",
            "313/313 [==============================] - 3s 9ms/step - loss: 0.6169 - acc: 0.7725 - val_loss: 0.7896 - val_acc: 0.7110\n",
            "Epoch 58/120\n",
            "313/313 [==============================] - 3s 8ms/step - loss: 0.5958 - acc: 0.7797 - val_loss: 0.8119 - val_acc: 0.7090\n",
            "Epoch 59/120\n",
            "313/313 [==============================] - 3s 8ms/step - loss: 0.5673 - acc: 0.7906 - val_loss: 0.7788 - val_acc: 0.7270\n",
            "Epoch 60/120\n",
            "313/313 [==============================] - 3s 8ms/step - loss: 0.5516 - acc: 0.7986 - val_loss: 0.7568 - val_acc: 0.7260\n",
            "Epoch 61/120\n",
            "313/313 [==============================] - 3s 8ms/step - loss: 0.5364 - acc: 0.8020 - val_loss: 0.7843 - val_acc: 0.7150\n",
            "Epoch 62/120\n",
            "313/313 [==============================] - 3s 8ms/step - loss: 0.5145 - acc: 0.8109 - val_loss: 0.7725 - val_acc: 0.7370\n",
            "Epoch 63/120\n",
            "313/313 [==============================] - 3s 8ms/step - loss: 0.5076 - acc: 0.8114 - val_loss: 0.7257 - val_acc: 0.7400\n",
            "Epoch 64/120\n",
            "313/313 [==============================] - 3s 8ms/step - loss: 0.4846 - acc: 0.8206 - val_loss: 0.7456 - val_acc: 0.7420\n",
            "Epoch 65/120\n",
            "313/313 [==============================] - 3s 8ms/step - loss: 0.4763 - acc: 0.8311 - val_loss: 0.7122 - val_acc: 0.7430\n",
            "Epoch 66/120\n",
            "313/313 [==============================] - 3s 8ms/step - loss: 0.4590 - acc: 0.8266 - val_loss: 0.7689 - val_acc: 0.7310\n",
            "Epoch 67/120\n",
            "313/313 [==============================] - 3s 8ms/step - loss: 0.4484 - acc: 0.8348 - val_loss: 0.7305 - val_acc: 0.7510\n",
            "Epoch 68/120\n",
            "313/313 [==============================] - 3s 8ms/step - loss: 0.4323 - acc: 0.8375 - val_loss: 0.7250 - val_acc: 0.7500\n",
            "Epoch 69/120\n",
            "313/313 [==============================] - 3s 8ms/step - loss: 0.4193 - acc: 0.8443 - val_loss: 0.7311 - val_acc: 0.7450\n",
            "Epoch 70/120\n",
            "313/313 [==============================] - 3s 8ms/step - loss: 0.4090 - acc: 0.8486 - val_loss: 0.7318 - val_acc: 0.7480\n",
            "Epoch 71/120\n",
            "313/313 [==============================] - 3s 8ms/step - loss: 0.3982 - acc: 0.8515 - val_loss: 0.7312 - val_acc: 0.7530\n",
            "Epoch 72/120\n",
            "313/313 [==============================] - 3s 9ms/step - loss: 0.3875 - acc: 0.8586 - val_loss: 0.7571 - val_acc: 0.7530\n",
            "Epoch 73/120\n",
            "313/313 [==============================] - 3s 8ms/step - loss: 0.3857 - acc: 0.8562 - val_loss: 0.7039 - val_acc: 0.7520\n",
            "Epoch 74/120\n",
            "313/313 [==============================] - 3s 8ms/step - loss: 0.3701 - acc: 0.8640 - val_loss: 0.7160 - val_acc: 0.7540\n",
            "Epoch 75/120\n",
            "313/313 [==============================] - 3s 8ms/step - loss: 0.3659 - acc: 0.8628 - val_loss: 0.7006 - val_acc: 0.7650\n",
            "Epoch 76/120\n",
            "313/313 [==============================] - 3s 9ms/step - loss: 0.3484 - acc: 0.8711 - val_loss: 0.6902 - val_acc: 0.7600\n",
            "Epoch 77/120\n",
            "313/313 [==============================] - 3s 8ms/step - loss: 0.3487 - acc: 0.8708 - val_loss: 0.7256 - val_acc: 0.7630\n",
            "Epoch 78/120\n",
            "313/313 [==============================] - 3s 8ms/step - loss: 0.3308 - acc: 0.8793 - val_loss: 0.7309 - val_acc: 0.7560\n",
            "Epoch 79/120\n",
            "313/313 [==============================] - 3s 8ms/step - loss: 0.3221 - acc: 0.8836 - val_loss: 0.6828 - val_acc: 0.7640\n",
            "Epoch 80/120\n",
            "313/313 [==============================] - 3s 8ms/step - loss: 0.3125 - acc: 0.8846 - val_loss: 0.6830 - val_acc: 0.7710\n",
            "Epoch 81/120\n",
            "313/313 [==============================] - 3s 8ms/step - loss: 0.3020 - acc: 0.8920 - val_loss: 0.7299 - val_acc: 0.7690\n",
            "Epoch 82/120\n",
            "313/313 [==============================] - 3s 8ms/step - loss: 0.2981 - acc: 0.8936 - val_loss: 0.7395 - val_acc: 0.7570\n",
            "Epoch 83/120\n",
            "313/313 [==============================] - 3s 8ms/step - loss: 0.2908 - acc: 0.8945 - val_loss: 0.7255 - val_acc: 0.7620\n",
            "Epoch 84/120\n",
            "313/313 [==============================] - 3s 8ms/step - loss: 0.2846 - acc: 0.8966 - val_loss: 0.7396 - val_acc: 0.7620\n",
            "Epoch 85/120\n",
            "313/313 [==============================] - 3s 8ms/step - loss: 0.2721 - acc: 0.9023 - val_loss: 0.7198 - val_acc: 0.7680\n",
            "Epoch 86/120\n",
            "313/313 [==============================] - 3s 8ms/step - loss: 0.2723 - acc: 0.9022 - val_loss: 0.8257 - val_acc: 0.7630\n",
            "Epoch 87/120\n",
            "313/313 [==============================] - 3s 9ms/step - loss: 0.2679 - acc: 0.9001 - val_loss: 0.7361 - val_acc: 0.7730\n",
            "Epoch 88/120\n",
            "313/313 [==============================] - 3s 8ms/step - loss: 0.2483 - acc: 0.9090 - val_loss: 0.7817 - val_acc: 0.7570\n",
            "Epoch 89/120\n",
            "313/313 [==============================] - 3s 8ms/step - loss: 0.2444 - acc: 0.9103 - val_loss: 0.7267 - val_acc: 0.7710\n",
            "Epoch 90/120\n",
            "313/313 [==============================] - 3s 8ms/step - loss: 0.2472 - acc: 0.9087 - val_loss: 0.7360 - val_acc: 0.7660\n",
            "Epoch 91/120\n",
            "313/313 [==============================] - 3s 8ms/step - loss: 0.2512 - acc: 0.9075 - val_loss: 0.7642 - val_acc: 0.7740\n",
            "Epoch 92/120\n",
            "313/313 [==============================] - 3s 8ms/step - loss: 0.2275 - acc: 0.9175 - val_loss: 0.7488 - val_acc: 0.7590\n",
            "Epoch 93/120\n",
            "313/313 [==============================] - 3s 8ms/step - loss: 0.2236 - acc: 0.9183 - val_loss: 0.7994 - val_acc: 0.7680\n",
            "Epoch 94/120\n",
            "313/313 [==============================] - 3s 8ms/step - loss: 0.2271 - acc: 0.9182 - val_loss: 0.8282 - val_acc: 0.7590\n",
            "Epoch 95/120\n",
            "313/313 [==============================] - 3s 9ms/step - loss: 0.2232 - acc: 0.9176 - val_loss: 0.7642 - val_acc: 0.7730\n",
            "Epoch 96/120\n",
            "313/313 [==============================] - 3s 8ms/step - loss: 0.2109 - acc: 0.9241 - val_loss: 0.7990 - val_acc: 0.7490\n",
            "Epoch 97/120\n",
            "313/313 [==============================] - 3s 8ms/step - loss: 0.2104 - acc: 0.9250 - val_loss: 0.8029 - val_acc: 0.7680\n",
            "Epoch 98/120\n",
            "313/313 [==============================] - 3s 8ms/step - loss: 0.2020 - acc: 0.9251 - val_loss: 0.8286 - val_acc: 0.7500\n",
            "Epoch 99/120\n",
            "313/313 [==============================] - 3s 9ms/step - loss: 0.2006 - acc: 0.9289 - val_loss: 0.7827 - val_acc: 0.7650\n",
            "Epoch 100/120\n",
            "313/313 [==============================] - 3s 8ms/step - loss: 0.1935 - acc: 0.9308 - val_loss: 0.8464 - val_acc: 0.7530\n",
            "Epoch 101/120\n",
            "313/313 [==============================] - 3s 8ms/step - loss: 0.1913 - acc: 0.9311 - val_loss: 0.8330 - val_acc: 0.7620\n",
            "Epoch 102/120\n",
            "313/313 [==============================] - 3s 9ms/step - loss: 0.1864 - acc: 0.9322 - val_loss: 0.9069 - val_acc: 0.7580\n",
            "Epoch 103/120\n",
            "313/313 [==============================] - 3s 9ms/step - loss: 0.1777 - acc: 0.9357 - val_loss: 0.8737 - val_acc: 0.7620\n",
            "Epoch 104/120\n",
            "313/313 [==============================] - 3s 8ms/step - loss: 0.1881 - acc: 0.9330 - val_loss: 0.7915 - val_acc: 0.7630\n",
            "Epoch 105/120\n",
            "313/313 [==============================] - 3s 9ms/step - loss: 0.1747 - acc: 0.9389 - val_loss: 0.8007 - val_acc: 0.7710\n",
            "Epoch 106/120\n",
            "313/313 [==============================] - 3s 8ms/step - loss: 0.1747 - acc: 0.9357 - val_loss: 0.8244 - val_acc: 0.7650\n",
            "Epoch 107/120\n",
            "313/313 [==============================] - 3s 8ms/step - loss: 0.1703 - acc: 0.9403 - val_loss: 0.7858 - val_acc: 0.7760\n",
            "Epoch 108/120\n",
            "313/313 [==============================] - 3s 8ms/step - loss: 0.1609 - acc: 0.9447 - val_loss: 0.8228 - val_acc: 0.7660\n",
            "Epoch 109/120\n",
            "313/313 [==============================] - 3s 8ms/step - loss: 0.1618 - acc: 0.9431 - val_loss: 0.8555 - val_acc: 0.7700\n",
            "Epoch 110/120\n",
            "313/313 [==============================] - 3s 9ms/step - loss: 0.1540 - acc: 0.9422 - val_loss: 0.9038 - val_acc: 0.7580\n",
            "Epoch 111/120\n",
            "313/313 [==============================] - 3s 8ms/step - loss: 0.1544 - acc: 0.9439 - val_loss: 0.8606 - val_acc: 0.7630\n",
            "Epoch 112/120\n",
            "313/313 [==============================] - 3s 8ms/step - loss: 0.1601 - acc: 0.9419 - val_loss: 0.8901 - val_acc: 0.7570\n",
            "Epoch 113/120\n",
            "313/313 [==============================] - 3s 8ms/step - loss: 0.1487 - acc: 0.9500 - val_loss: 0.8657 - val_acc: 0.7680\n",
            "Epoch 114/120\n",
            "313/313 [==============================] - 3s 8ms/step - loss: 0.1475 - acc: 0.9461 - val_loss: 0.8796 - val_acc: 0.7700\n",
            "Epoch 115/120\n",
            "313/313 [==============================] - 3s 8ms/step - loss: 0.1483 - acc: 0.9461 - val_loss: 0.9519 - val_acc: 0.7540\n",
            "Epoch 116/120\n",
            "313/313 [==============================] - 3s 8ms/step - loss: 0.1406 - acc: 0.9495 - val_loss: 0.9487 - val_acc: 0.7580\n",
            "Epoch 117/120\n",
            "313/313 [==============================] - 3s 9ms/step - loss: 0.1454 - acc: 0.9497 - val_loss: 0.8918 - val_acc: 0.7730\n",
            "Epoch 118/120\n",
            "313/313 [==============================] - 3s 9ms/step - loss: 0.1364 - acc: 0.9524 - val_loss: 0.9025 - val_acc: 0.7670\n",
            "Epoch 119/120\n",
            "313/313 [==============================] - 3s 9ms/step - loss: 0.1322 - acc: 0.9518 - val_loss: 0.9203 - val_acc: 0.7650\n",
            "Epoch 120/120\n",
            "313/313 [==============================] - 3s 9ms/step - loss: 0.1331 - acc: 0.9520 - val_loss: 0.9046 - val_acc: 0.7750\n"
          ],
          "name": "stdout"
        }
      ]
    },
    {
      "cell_type": "code",
      "metadata": {
        "id": "XmvYxMNh4Xq9",
        "outputId": "be499cc0-4ffd-49ca-da42-413e95595dec",
        "colab": {
          "base_uri": "https://localhost:8080/"
        }
      },
      "source": [
        "print(\"\\n 테스트 정확도: %.4f\" % (model.evaluate([Xstest, Xqtest], Ytest)[1]))"
      ],
      "execution_count": 30,
      "outputs": [
        {
          "output_type": "stream",
          "text": [
            "32/32 [==============================] - 0s 2ms/step - loss: 0.9046 - acc: 0.7750\n",
            "\n",
            " 테스트 정확도: 0.7750\n"
          ],
          "name": "stdout"
        }
      ]
    },
    {
      "cell_type": "code",
      "metadata": {
        "id": "ykCB-E0i4heM",
        "outputId": "96ffefd4-91e8-460d-eb97-6a9d21b07037",
        "colab": {
          "base_uri": "https://localhost:8080/",
          "height": 297
        }
      },
      "source": [
        "# plot accuracy and loss plot\n",
        "plt.subplot(211)\n",
        "plt.title(\"Accuracy\")\n",
        "plt.plot(history.history[\"acc\"], color=\"g\", label=\"train\")\n",
        "plt.plot(history.history[\"val_acc\"], color=\"b\", label=\"validation\")\n",
        "plt.legend(loc=\"best\")\n",
        "\n",
        "plt.subplot(212)\n",
        "plt.title(\"Loss\")\n",
        "plt.plot(history.history[\"loss\"], color=\"g\", label=\"train\")\n",
        "plt.plot(history.history[\"val_loss\"], color=\"b\", label=\"validation\")\n",
        "plt.legend(loc=\"best\")\n",
        "\n",
        "plt.tight_layout()\n",
        "plt.show()\n",
        "\n",
        "# labels\n",
        "ytest = np.argmax(Ytest, axis=1)\n",
        "\n",
        "# get predictions\n",
        "Ytest_ = model.predict([Xstest, Xqtest])\n",
        "ytest_ = np.argmax(Ytest_, axis=1)"
      ],
      "execution_count": 31,
      "outputs": [
        {
          "output_type": "display_data",
          "data": {
            "image/png": "[encoded data removed]",
            "text/plain": [
              "<Figure size 432x288 with 2 Axes>"
            ]
          },
          "metadata": {
            "tags": [],
            "needs_background": "light"
          }
        }
      ]
    }
  ]
}